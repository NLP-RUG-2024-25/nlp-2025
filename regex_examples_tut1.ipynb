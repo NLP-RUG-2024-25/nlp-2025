{
 "cells": [
  {
   "metadata": {
    "is_executing": true
   },
   "cell_type": "code",
   "outputs": [],
   "execution_count": null,
   "source": [
    "\"\"\"\n",
    "Tutorial 1: Regular expressions\n",
    "This notebook aims to showcase how regular expressions work and show some examples .\n",
    "Author: Yoanna Koleva\n",
    "\"\"\""
   ],
   "id": "e2e959ede1ebb61a"
  },
  {
   "metadata": {},
   "cell_type": "markdown",
   "source": [],
   "id": "e699239134639bec"
  },
  {
   "metadata": {
    "ExecuteTime": {
     "end_time": "2025-02-09T18:40:43.537716Z",
     "start_time": "2025-02-09T18:40:43.524327Z"
    }
   },
   "cell_type": "code",
   "source": [
    "import regex as re"
   ],
   "id": "b079ac42cb5308b4",
   "outputs": [],
   "execution_count": 46
  },
  {
   "metadata": {},
   "cell_type": "markdown",
   "source": [
    "## Simplest form of regular expressions"
   ],
   "id": "de81d11342646c18"
  },
  {
   "metadata": {
    "ExecuteTime": {
     "end_time": "2025-02-09T16:42:40.016317Z",
     "start_time": "2025-02-09T16:42:40.008569Z"
    }
   },
   "cell_type": "code",
   "source": [
    "# Match all \"a\" characters in a string\n",
    "text=\"I am learning about regular expressions\"\n",
    "match=re.findall(\"a\", text)\n",
    "print(match)"
   ],
   "id": "7765ca1a62ff8e4b",
   "outputs": [
    {
     "name": "stdout",
     "output_type": "stream",
     "text": [
      "['a', 'a', 'a', 'a']\n"
     ]
    }
   ],
   "execution_count": 14
  },
  {
   "metadata": {
    "ExecuteTime": {
     "end_time": "2025-02-09T18:05:23.664786Z",
     "start_time": "2025-02-09T18:05:23.660945Z"
    }
   },
   "cell_type": "code",
   "source": [
    "# Characters to be matched can be concatenated \n",
    "text=\"strings\"\n",
    "match=re.findall(\"string\",text)\n",
    "print(match)"
   ],
   "id": "e0dce3c0f7c0ea1b",
   "outputs": [
    {
     "name": "stdout",
     "output_type": "stream",
     "text": [
      "['string']\n"
     ]
    }
   ],
   "execution_count": 28
  },
  {
   "metadata": {},
   "cell_type": "markdown",
   "source": [
    "## Metacharacters\n"
   ],
   "id": "ef779ed89f25133e"
  },
  {
   "metadata": {
    "ExecuteTime": {
     "end_time": "2025-02-09T17:29:13.903976Z",
     "start_time": "2025-02-09T17:29:13.896958Z"
    }
   },
   "cell_type": "code",
   "source": [
    "# Find all words which end in \"ain\". \n",
    "text = \"The train travels through the mountain in the rain.\"\n",
    "match = re.findall(r\"ain\", text)\n",
    "print(match)\n"
   ],
   "id": "ae448f63b852f267",
   "outputs": [
    {
     "name": "stdout",
     "output_type": "stream",
     "text": [
      "['train', 'mountain', 'rain']\n"
     ]
    }
   ],
   "execution_count": 18
  },
  {
   "metadata": {},
   "cell_type": "markdown",
   "source": [
    "## Sets"
   ],
   "id": "bb700d9db2464c4a"
  },
  {
   "metadata": {
    "ExecuteTime": {
     "end_time": "2025-02-09T17:32:43.994520Z",
     "start_time": "2025-02-09T17:32:43.985351Z"
    }
   },
   "cell_type": "code",
   "source": [
    "# Match patterns consisting of a, b or c \n",
    "text=\"abbbbbbcaabb\"\n",
    "match=re.findall(r\"[abc]+\",text)\n",
    "print(match)"
   ],
   "id": "e4f98362aa5ba974",
   "outputs": [
    {
     "name": "stdout",
     "output_type": "stream",
     "text": [
      "['abbbbbbcaabb']\n"
     ]
    }
   ],
   "execution_count": 19
  },
  {
   "metadata": {
    "ExecuteTime": {
     "end_time": "2025-02-09T17:35:04.739951Z",
     "start_time": "2025-02-09T17:35:04.732988Z"
    }
   },
   "cell_type": "code",
   "source": [
    "# Match any character in the range a-m\n",
    "# Try also with zzz at the end\n",
    "text=\"abbbbbbcaabb\"\n",
    "match=re.findall(r\"[a-m]\",text)\n",
    "print(match)"
   ],
   "id": "e15168377aea3fc0",
   "outputs": [
    {
     "name": "stdout",
     "output_type": "stream",
     "text": [
      "['a', 'b', 'b', 'b', 'b', 'b', 'b', 'c', 'a', 'a', 'b', 'b']\n"
     ]
    }
   ],
   "execution_count": 21
  },
  {
   "metadata": {
    "ExecuteTime": {
     "end_time": "2025-02-09T17:37:58.659286Z",
     "start_time": "2025-02-09T17:37:58.655234Z"
    }
   },
   "cell_type": "code",
   "source": [
    "# Match any character *, /, or +\n",
    "# Try also with \\ at the end\n",
    "text=\"*///+++*\"\n",
    "match=re.findall(r\"[*/+]\",text)\n",
    "print(match)"
   ],
   "id": "f9995faeb73cde82",
   "outputs": [
    {
     "name": "stdout",
     "output_type": "stream",
     "text": [
      "['*', '/', '/', '/', '+', '+', '+', '*']\n"
     ]
    }
   ],
   "execution_count": 24
  },
  {
   "metadata": {
    "ExecuteTime": {
     "end_time": "2025-02-09T17:40:12.220413Z",
     "start_time": "2025-02-09T17:40:12.214648Z"
    }
   },
   "cell_type": "code",
   "source": [
    "# Match any two-digit number\n",
    "text=\"I have 22 apples and 40 oranges in my bag.\"\n",
    "match=re.findall(r\"[0-5][0-9]\",text)\n",
    "print(match)"
   ],
   "id": "cb30d6341d4e2542",
   "outputs": [
    {
     "name": "stdout",
     "output_type": "stream",
     "text": [
      "['22', '40']\n"
     ]
    }
   ],
   "execution_count": 25
  },
  {
   "metadata": {
    "ExecuteTime": {
     "end_time": "2025-02-09T17:42:57.179888Z",
     "start_time": "2025-02-09T17:42:57.175894Z"
    }
   },
   "cell_type": "code",
   "source": [
    "# Match any characters that are not a, b or c\n",
    "text = \"I have 22 apples and 40 oranges in my bag.\"\n",
    "match = re.findall(r\"[^abc]\", text)\n",
    "print(match)\n"
   ],
   "id": "287c74cf191088e5",
   "outputs": [
    {
     "name": "stdout",
     "output_type": "stream",
     "text": [
      "['I', ' ', 'h', 'v', 'e', ' ', '2', '2', ' ', 'p', 'p', 'l', 'e', 's', ' ', 'n', 'd', ' ', '4', '0', ' ', 'o', 'r', 'n', 'g', 'e', 's', ' ', 'i', 'n', ' ', 'm', 'y', ' ', 'g', '.']\n"
     ]
    }
   ],
   "execution_count": 26
  },
  {
   "metadata": {},
   "cell_type": "markdown",
   "source": [
    "## Useful functions and properties"
   ],
   "id": "60e84d430687c0b2"
  },
  {
   "metadata": {
    "ExecuteTime": {
     "end_time": "2025-02-09T18:17:26.995915Z",
     "start_time": "2025-02-09T18:17:26.991004Z"
    }
   },
   "cell_type": "code",
   "source": [
    "# Finding patterns using search\n",
    "text = \"The train travels through the mountain in the rain.\"\n",
    "match = re.search(\"ain\", text)\n",
    "print(\"The first 'ain' match is found in position:\", match.start()) "
   ],
   "id": "cb167d64eeeeb800",
   "outputs": [
    {
     "name": "stdout",
     "output_type": "stream",
     "text": [
      "The first 'ain' match is found in position: 6\n"
     ]
    }
   ],
   "execution_count": 33
  },
  {
   "metadata": {
    "ExecuteTime": {
     "end_time": "2025-02-09T18:09:31.412016Z",
     "start_time": "2025-02-09T18:09:31.407474Z"
    }
   },
   "cell_type": "code",
   "source": [
    "# Finding patterns using findall\n",
    "text = \"abcdef\"\n",
    "match = re.findall(r\"\\w\\w\", text)\n",
    "print(match)"
   ],
   "id": "30896a3da6667be0",
   "outputs": [
    {
     "name": "stdout",
     "output_type": "stream",
     "text": [
      "['ab', 'cd', 'ef']\n"
     ]
    }
   ],
   "execution_count": 31
  },
  {
   "metadata": {},
   "cell_type": "markdown",
   "source": [
    "#### Note: Once a character has been included in a match, it is not included in the following one: Findall does not return \"ab\", \"bc\", \"cd\", etc."
   ],
   "id": "f4548dd4f7a02666"
  },
  {
   "metadata": {
    "ExecuteTime": {
     "end_time": "2025-02-09T18:22:04.067703Z",
     "start_time": "2025-02-09T18:22:04.062755Z"
    }
   },
   "cell_type": "code",
   "source": [
    "# Extracting \"groups\" from matches\n",
    "# Find all words which end in \"ain\". \n",
    "text = \"Name: John Age: 22 Grade: 9.5.\"\n",
    "match = re.findall(r\"Name:\\s\\w*\\s\", text)\n",
    "print(match)\n"
   ],
   "id": "e2dbdc162d08ec9b",
   "outputs": [
    {
     "name": "stdout",
     "output_type": "stream",
     "text": [
      "['John']\n"
     ]
    }
   ],
   "execution_count": 36
  },
  {
   "metadata": {},
   "cell_type": "markdown",
   "source": [
    "# Greedy and non-greedy quantifying operators\n",
    "Greedy operators are a way of indicating that a certain character or pattern can be encountered more than once. \n",
    "The main greedy operators are \"*\", \"+\", and \"?\". Additionally, combinations between them are possible. Below are showcased patterns with the different operators and possible combinations between them (non-greedy)."
   ],
   "id": "85a9ee0be7d29c44"
  },
  {
   "metadata": {},
   "cell_type": "markdown",
   "source": [
    "### The greedy operator \"*\""
   ],
   "id": "da0dc4b66756a4f4"
  },
  {
   "cell_type": "code",
   "id": "initial_id",
   "metadata": {
    "collapsed": true,
    "ExecuteTime": {
     "end_time": "2025-02-09T18:34:15.614716Z",
     "start_time": "2025-02-09T18:34:15.608824Z"
    }
   },
   "source": [
    "# \"*\" ->  0 or more repetitions\n",
    "text=\"acabab\"\n",
    "pattern=r\"a.*b\"\n",
    "found=re.findall(pattern, text)\n",
    "print(found)\n"
   ],
   "outputs": [
    {
     "name": "stdout",
     "output_type": "stream",
     "text": [
      "['acabab']\n"
     ]
    }
   ],
   "execution_count": 37
  },
  {
   "metadata": {},
   "cell_type": "markdown",
   "source": [
    "### The greedy operator \"+\"\n"
   ],
   "id": "b5635eb7c811b816"
  },
  {
   "metadata": {
    "ExecuteTime": {
     "end_time": "2025-02-09T14:09:30.536915Z",
     "start_time": "2025-02-09T14:09:30.532304Z"
    }
   },
   "cell_type": "code",
   "source": [
    "# \"+\" -> 1 or more repetitions\n",
    "# Try also \"a\", \"abbbbb\"\n",
    "text=\"ab\"\n",
    "pattern=r\"ab+\"\n",
    "found=re.findall(pattern, text)\n",
    "print(found)\n"
   ],
   "id": "966ea7fd66f109ff",
   "outputs": [
    {
     "name": "stdout",
     "output_type": "stream",
     "text": [
      "['ab']\n"
     ]
    }
   ],
   "execution_count": 6
  },
  {
   "metadata": {},
   "cell_type": "markdown",
   "source": [
    "### The greedy operator \"?\"\n"
   ],
   "id": "31a014f2d20da830"
  },
  {
   "metadata": {
    "ExecuteTime": {
     "end_time": "2025-02-09T15:25:39.176162Z",
     "start_time": "2025-02-09T15:25:39.172465Z"
    }
   },
   "cell_type": "code",
   "source": [
    "# \"+\" -> 0 or 1 repetitions\n",
    "# Try also \"a\", \"acb\", \"ba\"\n",
    "text=\"ab\"\n",
    "pattern=r\"ab?\"\n",
    "found=re.findall(pattern, text)\n",
    "print(found)\n"
   ],
   "id": "9d84046461eacf2a",
   "outputs": [
    {
     "name": "stdout",
     "output_type": "stream",
     "text": [
      "['a']\n"
     ]
    }
   ],
   "execution_count": 10
  },
  {
   "metadata": {},
   "cell_type": "markdown",
   "source": [
    "### The non-greedy operator \"*?\"\n"
   ],
   "id": "d82eac6ecfe653a7"
  },
  {
   "metadata": {
    "ExecuteTime": {
     "end_time": "2025-02-09T18:38:54.545550Z",
     "start_time": "2025-02-09T18:38:54.540800Z"
    }
   },
   "cell_type": "code",
   "source": [
    "# \"*?\" ->  0 or more repetitions (non-greedy)\n",
    "text=\"acabab\"\n",
    "# Try also r\"a.b*?\"\n",
    "pattern=r\"a.*?b\"\n",
    "found=re.findall(pattern, text)\n",
    "print(found)\n"
   ],
   "id": "4a23e56735e61a01",
   "outputs": [
    {
     "name": "stdout",
     "output_type": "stream",
     "text": [
      "['ac', 'ab', 'ab']\n"
     ]
    }
   ],
   "execution_count": 45
  },
  {
   "metadata": {},
   "cell_type": "markdown",
   "source": [
    "### The non-greedy operator \"+?\""
   ],
   "id": "c7ddcd3979dfd2c0"
  },
  {
   "metadata": {
    "ExecuteTime": {
     "end_time": "2025-02-09T18:36:46.945110Z",
     "start_time": "2025-02-09T18:36:46.941435Z"
    }
   },
   "cell_type": "code",
   "source": [
    "# \"+?\" -> 1 or more repetitions (non-greedy)\n",
    "text=\"abbbbbbbbbbbb\"\n",
    "pattern=r\"ab+?\"\n",
    "found=re.findall(pattern, text)\n",
    "print(found)\n"
   ],
   "id": "4c52555625c32bf2",
   "outputs": [
    {
     "name": "stdout",
     "output_type": "stream",
     "text": [
      "['ab']\n"
     ]
    }
   ],
   "execution_count": 42
  }
 ],
 "metadata": {
  "kernelspec": {
   "display_name": "Python 3",
   "language": "python",
   "name": "python3"
  },
  "language_info": {
   "codemirror_mode": {
    "name": "ipython",
    "version": 2
   },
   "file_extension": ".py",
   "mimetype": "text/x-python",
   "name": "python",
   "nbconvert_exporter": "python",
   "pygments_lexer": "ipython2",
   "version": "2.7.6"
  }
 },
 "nbformat": 4,
 "nbformat_minor": 5
}
