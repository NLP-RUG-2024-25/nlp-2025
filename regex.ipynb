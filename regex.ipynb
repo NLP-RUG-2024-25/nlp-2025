{
 "cells": [
  {
   "cell_type": "markdown",
   "id": "lasting-heavy",
   "metadata": {
    "id": "lasting-heavy"
   },
   "source": [
    "# Regular Expressions in Python\n",
    "\n",
    "## Introduction\n",
    "This notebook introduces **regular expressions** (regex) in Python, focusing on their use for pattern matching and text manipulation. By the end of this notebook, you will be able to:\n",
    "- Use basic string methods for text manipulation.\n",
    "- Understand and apply regular expressions for pattern matching.\n",
    "- Solve real-world text processing tasks using regex."
   ]
  },
  {
   "cell_type": "markdown",
   "id": "cd754aea",
   "metadata": {},
   "source": [
    "Python provides several built-in string methods for text manipulation. Let's start with a simple example using the `split()` method. String methods such as `split()` are useful for extracting portions of a string."
   ]
  },
  {
   "cell_type": "code",
   "execution_count": null,
   "id": "acceptable-lawsuit",
   "metadata": {
    "colab": {
     "base_uri": "https://localhost:8080/"
    },
    "id": "acceptable-lawsuit",
    "outputId": "30772cd7-9518-49f9-a4a2-20ecfb05d0ca"
   },
   "outputs": [
    {
     "data": {
      "text/plain": [
       "['9', '13', 'and', '15', 'are', 'odd', 'numbers.']"
      ]
     },
     "execution_count": 7,
     "metadata": {},
     "output_type": "execute_result"
    }
   ],
   "source": [
    "string = '9 13 and 15 are odd numbers.'\n",
    "string.split()"
   ]
  },
  {
   "cell_type": "markdown",
   "id": "complimentary-works",
   "metadata": {
    "id": "complimentary-works"
   },
   "source": [
    "This could be used to find the numbers in a string."
   ]
  },
  {
   "cell_type": "code",
   "execution_count": null,
   "id": "strange-treaty",
   "metadata": {
    "colab": {
     "base_uri": "https://localhost:8080/"
    },
    "id": "strange-treaty",
    "outputId": "96107937-4b14-45cb-b2c0-4147d5fe3fb7"
   },
   "outputs": [
    {
     "name": "stdout",
     "output_type": "stream",
     "text": [
      "['9', '13', '15']\n"
     ]
    }
   ],
   "source": [
    "string = '9 13 and 15 are odd numbers.'\n",
    "numbers = []\n",
    "for item in string.split():\n",
    "    if item.isdigit():\n",
    "        numbers.append(item)\n",
    "print(numbers)"
   ]
  },
  {
   "cell_type": "markdown",
   "id": "alone-stake",
   "metadata": {
    "id": "alone-stake"
   },
   "source": [
    "However, string methods have limitations when dealing with complex patterns. For example, if the string contains commas or other delimiters, split() may not work as expected. Let's run the solution above on the same string with a comma between 9 and 13."
   ]
  },
  {
   "cell_type": "code",
   "execution_count": null,
   "id": "northern-armenia",
   "metadata": {
    "colab": {
     "base_uri": "https://localhost:8080/"
    },
    "id": "northern-armenia",
    "outputId": "5cd3cc75-d78b-4d4f-818e-7bcb16894510"
   },
   "outputs": [
    {
     "name": "stdout",
     "output_type": "stream",
     "text": [
      "['13', '15']\n"
     ]
    }
   ],
   "source": [
    "string = '9, 13 and 15 are odd numbers.'\n",
    "numbers = []\n",
    "for item in string.split():\n",
    "    if item.isdigit():\n",
    "        numbers.append(item)\n",
    "print(numbers)"
   ]
  },
  {
   "cell_type": "markdown",
   "id": "generous-cycle",
   "metadata": {
    "id": "generous-cycle"
   },
   "source": [
    "9 is missing because split returns `'9,'` instead of `'9'`."
   ]
  },
  {
   "cell_type": "code",
   "execution_count": null,
   "id": "wrapped-contrary",
   "metadata": {
    "colab": {
     "base_uri": "https://localhost:8080/"
    },
    "id": "wrapped-contrary",
    "outputId": "f67ed38c-3331-4576-de50-5d7b44f31d7a"
   },
   "outputs": [
    {
     "data": {
      "text/plain": [
       "False"
      ]
     },
     "execution_count": 10,
     "metadata": {},
     "output_type": "execute_result"
    }
   ],
   "source": [
    "'9,'.isdigit()"
   ]
  },
  {
   "cell_type": "markdown",
   "id": "attempted-sellers",
   "metadata": {
    "id": "attempted-sellers"
   },
   "source": [
    "There are many ways to solve this issue. One way is to remove commas from the string."
   ]
  },
  {
   "cell_type": "code",
   "execution_count": null,
   "id": "divine-consent",
   "metadata": {
    "colab": {
     "base_uri": "https://localhost:8080/"
    },
    "id": "divine-consent",
    "outputId": "018a004b-95a9-4f26-9cb7-28cef4171137"
   },
   "outputs": [
    {
     "name": "stdout",
     "output_type": "stream",
     "text": [
      "['9', '13', '15']\n"
     ]
    }
   ],
   "source": [
    "# Solution 1\n",
    "string = '9, 13 and 15 are odd numbers.'\n",
    "string_wo_comma = string.replace(',', '')\n",
    "numbers = []\n",
    "for item in string_wo_comma.split():\n",
    "    if item.isdigit():\n",
    "        numbers.append(item)\n",
    "print(numbers)"
   ]
  },
  {
   "cell_type": "markdown",
   "id": "controlling-freeze",
   "metadata": {
    "id": "controlling-freeze"
   },
   "source": [
    "# Regular Expressions\n",
    "But as more complexities arise, it will be harder to handle all using string methods. This task of searching and extracting is so common that Python has a very powerful\n",
    "module called *regular expressions* that handles many of these tasks quite elegantly.\n",
    "\n",
    "https://docs.python.org/3/library/re.html\n",
    "\n",
    "Let's start by importing the module `re`."
   ]
  },
  {
   "cell_type": "code",
   "execution_count": null,
   "id": "adjustable-ferry",
   "metadata": {
    "id": "adjustable-ferry"
   },
   "outputs": [],
   "source": [
    "import re"
   ]
  },
  {
   "cell_type": "markdown",
   "id": "devoted-patent",
   "metadata": {
    "id": "devoted-patent"
   },
   "source": [
    "Let's solve the above task using regular expressions."
   ]
  },
  {
   "cell_type": "code",
   "execution_count": null,
   "id": "velvet-prisoner",
   "metadata": {
    "colab": {
     "base_uri": "https://localhost:8080/"
    },
    "id": "velvet-prisoner",
    "outputId": "e00ff349-4786-43f0-9a95-fe8583e3bfe5"
   },
   "outputs": [
    {
     "data": {
      "text/plain": [
       "['9', '13', '15']"
      ]
     },
     "execution_count": 20,
     "metadata": {},
     "output_type": "execute_result"
    }
   ],
   "source": [
    "# Solution 2\n",
    "string = '9, 13 and 15 are odd numbers.'\n",
    "pattern = '[0-9]+'\n",
    "re.findall(pattern, string)"
   ]
  },
  {
   "cell_type": "code",
   "execution_count": null,
   "id": "QoP3XF-KIaLj",
   "metadata": {
    "colab": {
     "base_uri": "https://localhost:8080/"
    },
    "id": "QoP3XF-KIaLj",
    "outputId": "70e48746-00a7-402e-df1b-0fc222c87400"
   },
   "outputs": [
    {
     "name": "stdout",
     "output_type": "stream",
     "text": [
      "['1', '22', '333', '4444']\n"
     ]
    }
   ],
   "source": [
    "# Additional Example:\n",
    "example_string = '1, 22, 333 and 4444 are numbers'\n",
    "pattern = r'\\b\\d+\\b'\n",
    "print(re.findall(pattern, example_string))"
   ]
  },
  {
   "cell_type": "markdown",
   "id": "clean-briefing",
   "metadata": {
    "id": "clean-briefing"
   },
   "source": [
    "No `for` loops, no `if` statements and it works even when you add complexity."
   ]
  },
  {
   "cell_type": "code",
   "execution_count": null,
   "id": "otherwise-process",
   "metadata": {
    "colab": {
     "base_uri": "https://localhost:8080/"
    },
    "id": "otherwise-process",
    "outputId": "8a379382-2f02-4548-a48a-0ab7baa527dc"
   },
   "outputs": [
    {
     "data": {
      "text/plain": [
       "['9', '13', '15']"
      ]
     },
     "execution_count": 22,
     "metadata": {},
     "output_type": "execute_result"
    }
   ],
   "source": [
    "# Find the numbers in a string with regular expressions\n",
    "string = \"9, $13 and (15) are odd numbers.\"\n",
    "pattern = '[0-9]+'\n",
    "re.findall(pattern, string)"
   ]
  },
  {
   "cell_type": "code",
   "execution_count": null,
   "id": "XXDKcKgpIhph",
   "metadata": {
    "colab": {
     "base_uri": "https://localhost:8080/"
    },
    "id": "XXDKcKgpIhph",
    "outputId": "7163ab3f-6ab8-4a45-b94e-9a84f958c934"
   },
   "outputs": [
    {
     "name": "stdout",
     "output_type": "stream",
     "text": [
      "['$20', '$30', '$50']\n"
     ]
    }
   ],
   "source": [
    "# Another Example:\n",
    "test_string = 'Items cost $20, $30, and $50'\n",
    "pattern = r'\\$\\d+'\n",
    "print(re.findall(pattern, test_string))  # Extract prices"
   ]
  },
  {
   "cell_type": "markdown",
   "id": "developed-vinyl",
   "metadata": {
    "id": "developed-vinyl"
   },
   "source": [
    "This is the essence of regular expressions. We define a `pattern` and search that pattern inside a `string`.\n",
    "\n",
    "There are multiple functions in Python's regular expressions library. We will mostly use `re.findall()` in this DataLab but be aware of the others:\n",
    "\n",
    "https://docs.python.org/3/library/re.html#functions"
   ]
  },
  {
   "cell_type": "markdown",
   "id": "basic-monday",
   "metadata": {
    "id": "basic-monday"
   },
   "source": [
    "**But what is the meaning of the pattern `[0-9]+`?**\n",
    "\n",
    "While they are very powerful, they are a little complicated and their syntax takes\n",
    "some getting used to. Regular expressions are almost their own little programming language for searching and parsing strings.\n",
    "\n",
    "Regular expressions are made of special characters. These special characters **match** normal characters we are familiar with. For example `\\s` matches whitespace and `.` matches any character. Therefore `\\s...\\s` will match a sequence of three characters surrounded by spaces e.g. a three letter word.\n",
    "\n",
    "`[0-9]+` will be explained later."
   ]
  },
  {
   "cell_type": "code",
   "execution_count": null,
   "id": "disabled-replacement",
   "metadata": {
    "id": "disabled-replacement"
   },
   "outputs": [],
   "source": [
    "string = 'I am looking for three letter words.'\n",
    "pattern = '\\s...\\s'\n",
    "re.findall(pattern, string)"
   ]
  },
  {
   "cell_type": "markdown",
   "id": "jewish-replica",
   "metadata": {
    "id": "jewish-replica"
   },
   "source": [
    "Here is a look at character level matches:\n",
    "\n",
    "| | | | | | |\n",
    "|:-:|:-:|:-:|:-:|:-:|:-:|\n",
    "| | | | | | |\n",
    "|Pattern|`\\s` |`.` |`. `|`.` |`\\s` |\n",
    "||&#8595;|&#8595;|&#8595;|&#8595;|&#8595;|\n",
    "|String|` ` | `f`|`o` |`r` |` ` |\n"
   ]
  },
  {
   "cell_type": "markdown",
   "id": "coordinated-litigation",
   "metadata": {
    "id": "coordinated-litigation"
   },
   "source": [
    "But if the word is at the beginning or the end, it will not match."
   ]
  },
  {
   "cell_type": "code",
   "execution_count": null,
   "id": "different-experiment",
   "metadata": {
    "id": "different-experiment"
   },
   "outputs": [],
   "source": [
    "string = 'But if the word is at the beginning...'\n",
    "pattern = '\\s...\\s'\n",
    "re.findall(pattern, string)"
   ]
  },
  {
   "cell_type": "markdown",
   "id": "north-extension",
   "metadata": {
    "id": "north-extension"
   },
   "source": [
    "Notice that `'But '` is not a match. Also notice that `re.findall()` can return multiple matches.\n",
    "\n",
    "Here is a look at character level too see why it does not match \"But\":\n",
    "\n",
    "| | | | | | |\n",
    "|:-:|:-:|:-:|:-:|:-:|:-:|\n",
    "| | | | | | |\n",
    "|Pattern|`\\s` |`.` |`. `|`.` |`\\s` |\n",
    "||&#10060;|&#8595;|&#8595;|&#8595;|&#8595;|\n",
    "|String|| `B`|`u` |`t` |` ` |\n"
   ]
  },
  {
   "cell_type": "code",
   "execution_count": null,
   "id": "concrete-bonus",
   "metadata": {
    "id": "concrete-bonus"
   },
   "outputs": [],
   "source": [
    "string = 'It will also match numbers like 123 but not 456'\n",
    "pattern = '\\s...\\s'\n",
    "re.findall(pattern, string)"
   ]
  },
  {
   "cell_type": "markdown",
   "id": "racial-tattoo",
   "metadata": {
    "id": "racial-tattoo"
   },
   "source": [
    "| | | | | | |\n",
    "|:-:|:-:|:-:|:-:|:-:|:-:|\n",
    "| | | | | | |\n",
    "|Pattern|`\\s` |`.` |`. `|`.` |`\\s` |\n",
    "||&#8595;|&#8595;|&#8595;|&#8595;|&#10060;|\n",
    "|String| ` `|`4` |`5` |`6` ||"
   ]
  },
  {
   "cell_type": "markdown",
   "id": "illegal-certificate",
   "metadata": {
    "id": "illegal-certificate"
   },
   "source": [
    "There are many more characters. There is no need to memorize them, you can use cheat sheets such as the one below. This is not exhaustive, but covers most common operations."
   ]
  },
  {
   "cell_type": "markdown",
   "id": "fifteen-southeast",
   "metadata": {
    "id": "fifteen-southeast"
   },
   "source": [
    "**Regular Expressions Cheatsheet**\n",
    "\n",
    "| Character | Description |\n",
    "| --- | --- |\n",
    "|^|Matches the beginning of a line|\n",
    "|$|Matches the end of the line|\n",
    "|.|Matches any character|\n",
    "|\\s|Matches whitespace|\n",
    "|\\S|Matches any non-whitespace character|\n",
    "|\\*|Repeats a character zero or more times|\n",
    "|*?|Repeats a character zero or more times (non-greedy)|\n",
    "|\\+|Repeats a character one or more times|\n",
    "|+?|Repeats a character one or more times (non-greedy)|\n",
    "|[aeiou]|Matches a single character in the listed set|\n",
    "|[^XYZ]|Matches a single character not in the listed set|\n",
    "|[a-z0-9]|The set of characters can include a range|\n",
    "|(|Indicates where string extraction is to start|\n",
    "|)|Indicates where string extraction is to end|\n",
    "\n",
    "**Key Highlights:**\n",
    "- Use `.` to match any character except newline.\n",
    "- Use `*` for zero or more repetitions.\n",
    "- Use `+` for one or more repetitions.\n",
    "- Use `?` for zero or one repetition.\n",
    "\n",
    "Refer to [regex101](https://regex101.com/) for interactive testing of regular expressions."
   ]
  },
  {
   "cell_type": "markdown",
   "id": "fixed-touch",
   "metadata": {
    "id": "fixed-touch"
   },
   "source": [
    "Additionally, there are tools that explain what a given expression matches. These tools are very useful when working with regular expressions."
   ]
  },
  {
   "cell_type": "markdown",
   "id": "rational-cannon",
   "metadata": {
    "id": "rational-cannon"
   },
   "source": [
    "**Task 1**\n",
    " - Go to https://regexr.com/\n",
    " - Enter the following regular expression:\n",
    "         \\s...\\s\n",
    " - Enter the following text:\n",
    "         I am looking for three letter words.\n",
    " - Check the explanation\n",
    " - Roll-over elements in the explanation to highlight in the expression above\n",
    " - Click on the elements to open them in reference on the left\n",
    " - **Use this tool from now on when you are in doubt**\n",
    "\n",
    "**Example:**\n",
    "Try creating a pattern to extract words starting with vowels in the sentence: `'An example of an apple and an orange'`."
   ]
  },
  {
   "cell_type": "markdown",
   "id": "tutorial-samuel",
   "metadata": {
    "id": "tutorial-samuel"
   },
   "source": [
    "Let's continue exploring more characters. In the previous example, you might have noticed whitespaces are returned."
   ]
  },
  {
   "cell_type": "code",
   "execution_count": null,
   "id": "discrete-immunology",
   "metadata": {
    "id": "discrete-immunology"
   },
   "outputs": [],
   "source": [
    "string = 'I am looking for three letter words.'\n",
    "pattern = '\\s...\\s'\n",
    "re.findall(pattern, string)"
   ]
  },
  {
   "cell_type": "markdown",
   "id": "further-superior",
   "metadata": {
    "id": "further-superior"
   },
   "source": [
    "But we just want the word. We can wrap the section we want to be returned into parentheses.\n",
    "\n",
    "Parentheses are another special character in regular expressions. When you add\n",
    "parentheses to a regular expression, they are ignored when matching the string.\n",
    "But when you are using `re.findall()`, parentheses indicate that while you want the\n",
    "whole expression to match, you only are interested in extracting a portion of the\n",
    "substring that matches the regular expression."
   ]
  },
  {
   "cell_type": "code",
   "execution_count": null,
   "id": "exact-trick",
   "metadata": {
    "id": "exact-trick"
   },
   "outputs": [],
   "source": [
    "string = 'I am looking for three letter words.'\n",
    "pattern = '\\s(...)\\s'\n",
    "re.findall(pattern, string)"
   ]
  },
  {
   "cell_type": "markdown",
   "id": "golden-treaty",
   "metadata": {
    "id": "golden-treaty"
   },
   "source": [
    "Now, let's understand the expression `[0-9]+` we saw previously.\n",
    "\n",
    "- The first step is to understands sets `[ ]`\n",
    "- The second step is to understand range `[0-9]`\n",
    "- The third step is to understand is the `+` character."
   ]
  },
  {
   "cell_type": "markdown",
   "id": "horizontal-investor",
   "metadata": {
    "id": "horizontal-investor"
   },
   "source": [
    "**Step 1:** A set matches a single character. For example the set `[0123456789]` matches `0` or `1` or `2` or `3` or `4` or `5` or `6` or `7` or `8` or `9`. It does not\n",
    "match `0123456789`."
   ]
  },
  {
   "cell_type": "code",
   "execution_count": null,
   "id": "biblical-stack",
   "metadata": {
    "id": "biblical-stack"
   },
   "outputs": [],
   "source": [
    "# Find single digits\n",
    "string = '2, 5 and 7 are odd numbers.'\n",
    "pattern = '[0123456789]'\n",
    "re.findall(pattern, string)"
   ]
  },
  {
   "cell_type": "markdown",
   "id": "indonesian-hindu",
   "metadata": {
    "id": "indonesian-hindu"
   },
   "source": [
    "| | | | | | |\n",
    "|:-:|:-:|:-:|:-:|:-:|:-:|\n",
    "| | | | | | |\n",
    "|Pattern|`[0123456789]` |\n",
    "||&#8595;|\n",
    "|String| `2`|"
   ]
  },
  {
   "cell_type": "markdown",
   "id": "logical-garage",
   "metadata": {
    "id": "logical-garage"
   },
   "source": [
    "What happens if the same pattern is applied to two-digit numbers?"
   ]
  },
  {
   "cell_type": "code",
   "execution_count": null,
   "id": "blocked-finger",
   "metadata": {
    "id": "blocked-finger"
   },
   "outputs": [],
   "source": [
    "string = '11, 13 and 15 are odd numbers.'\n",
    "pattern = '[0123456789]'\n",
    "re.findall(pattern, string)"
   ]
  },
  {
   "cell_type": "markdown",
   "id": "modified-romance",
   "metadata": {
    "id": "modified-romance"
   },
   "source": [
    "Since the pattern `[0123456789]` matches single characters, it will match the digits in `11` but as two separate matches. Therefore the return is `['1', '1', ...]` instead of `['11', ...]`.\n",
    "\n",
    "To match two-digit numbers we can simply use the pattern twice."
   ]
  },
  {
   "cell_type": "code",
   "execution_count": null,
   "id": "distinct-region",
   "metadata": {
    "id": "distinct-region"
   },
   "outputs": [],
   "source": [
    "string = '11, 13 and 15 are odd numbers.'\n",
    "pattern = '[0123456789][0123456789]'\n",
    "re.findall(pattern, string)"
   ]
  },
  {
   "cell_type": "markdown",
   "id": "precious-longitude",
   "metadata": {
    "id": "precious-longitude"
   },
   "source": [
    "| | | | | | |\n",
    "|:-:|:-:|:-:|:-:|:-:|:-:|\n",
    "| | | | | | |\n",
    "|Pattern|`[0123456789]` |`[0123456789]` |\n",
    "||&#8595;|&#8595;|\n",
    "|String| `1`|`1`|"
   ]
  },
  {
   "cell_type": "markdown",
   "id": "controlling-christmas",
   "metadata": {
    "id": "controlling-christmas"
   },
   "source": [
    "Probably, you are thinking `[0123456789]` is quite verbose. What if we want to match all letters? Do we have to write `[abcdefghijklmnopqrstuvwxyz]`?\n",
    "\n",
    "**Step 2:** That would be a nightmare but luckily we can define a range for common sets.\n",
    "- `[0123456789]` can be represented as `[0-9]`\n",
    "- Lower case letters `[a-z]`\n",
    "- Upper case letters `[A-Z]`"
   ]
  },
  {
   "cell_type": "code",
   "execution_count": null,
   "id": "ambient-tackle",
   "metadata": {
    "id": "ambient-tackle"
   },
   "outputs": [],
   "source": [
    "# Single digit with range\n",
    "string = '2, 5 and 7 are odd numbers.'\n",
    "pattern = '[0-9]'\n",
    "re.findall(pattern, string)"
   ]
  },
  {
   "cell_type": "code",
   "execution_count": null,
   "id": "chronic-campaign",
   "metadata": {
    "id": "chronic-campaign"
   },
   "outputs": [],
   "source": [
    "# Two digits with range\n",
    "string = '11, 13 and 15 are odd numbers.'\n",
    "pattern = '[0-9][0-9]'\n",
    "re.findall(pattern, string)"
   ]
  },
  {
   "cell_type": "markdown",
   "id": "particular-device",
   "metadata": {
    "id": "particular-device"
   },
   "source": [
    "**Task 2**\n",
    "\n",
    "Here is your second task. Define a pattern that returns lower case and upper case letters in a string.\n",
    "\n",
    "Example string: `'Word1 woRd2'`\n",
    "\n",
    "Output: `['W', 'o', 'r', 'd', 'w', 'o', 'R', 'd']`\n",
    "\n",
    "**Hint:** Use the `re` library and experiment with different patterns such as `[a-z]+` or `[A-Z][a-z]+`."
   ]
  },
  {
   "cell_type": "code",
   "execution_count": null,
   "id": "concerned-hybrid",
   "metadata": {
    "id": "concerned-hybrid"
   },
   "outputs": [],
   "source": [
    "string = 'Word1 woRd2'\n",
    "pattern = # YOUR CODE HERE\n",
    "re.findall(pattern, string)"
   ]
  },
  {
   "cell_type": "markdown",
   "id": "accomplished-elephant",
   "metadata": {
    "id": "accomplished-elephant"
   },
   "source": [
    "**Step 3:** But what if there are single and two digit numbers in one string?"
   ]
  },
  {
   "cell_type": "code",
   "execution_count": null,
   "id": "portable-entity",
   "metadata": {
    "id": "portable-entity"
   },
   "outputs": [],
   "source": [
    "# This won't work\n",
    "string = \"9, $13 and (15) are odd numbers.\"\n",
    "pattern = '[0-9]'\n",
    "re.findall(pattern, string)"
   ]
  },
  {
   "cell_type": "code",
   "execution_count": null,
   "id": "federal-passenger",
   "metadata": {
    "id": "federal-passenger"
   },
   "outputs": [],
   "source": [
    "# This won't work either\n",
    "string = \"9, $13 and (15) are odd numbers.\"\n",
    "pattern = '[0-9][0-9]'\n",
    "re.findall(pattern, string)"
   ]
  },
  {
   "cell_type": "markdown",
   "id": "fresh-soccer",
   "metadata": {
    "id": "fresh-soccer"
   },
   "source": [
    "`+` character repeats a character one or more times\n",
    "\n",
    "therefore `[0-9]+` will match\n",
    "- [0-9]\n",
    "- [0-9][0-9]\n",
    "- [0-9][0-9][0-9]\n",
    "- [0-9][0-9][0-9][0-9]\n",
    "- ..."
   ]
  },
  {
   "cell_type": "code",
   "execution_count": null,
   "id": "clear-samba",
   "metadata": {
    "id": "clear-samba"
   },
   "outputs": [],
   "source": [
    "string = \"9, $13 and (15) are odd numbers.\"\n",
    "pattern = '[0-9]+'\n",
    "re.findall(pattern, string)"
   ]
  },
  {
   "cell_type": "markdown",
   "id": "material-guyana",
   "metadata": {
    "id": "material-guyana"
   },
   "source": [
    "Sets can be used to define characters that you don't want to match as well\n",
    "\n",
    "| Character | Description |\n",
    "| --- | --- |\n",
    "|[aeiou]|Matches a single character in the listed set|\n",
    "|[^XYZ]|Matches a single character not in the listed set|\n",
    "|[a-z0-9]|The set of characters can include a range|\n",
    "\n",
    "For example `[^0-9]` would match all the non-number characters:"
   ]
  },
  {
   "cell_type": "code",
   "execution_count": null,
   "id": "optional-guest",
   "metadata": {
    "id": "optional-guest"
   },
   "outputs": [],
   "source": [
    "string = \"123 abc 5d\"\n",
    "pattern = '[^0-9]'\n",
    "re.findall(pattern, string)"
   ]
  },
  {
   "cell_type": "markdown",
   "id": "possible-summer",
   "metadata": {
    "id": "possible-summer"
   },
   "source": [
    "**Task 3:** Find the number of apples in a string using regular expressions. The string can contain `'x apples'` any place.\n",
    "\n",
    "---\n",
    "\n",
    "Example string\n",
    "`'There are 15 apples in the basket.'`\n",
    "\n",
    "Expected output is `['15']`\n",
    "\n",
    "---\n",
    "\n",
    "Example string\n",
    "`'There are 15 apples and 20 oranges in the basket.'`\n",
    "\n",
    "Expected output is `['15']`\n",
    "\n",
    "---\n",
    "\n",
    "Example string\n",
    "`'5 apples here 10 apples there.'`\n",
    "\n",
    "Expected output is `['5', '10']`\n",
    "\n",
    "---\n",
    "\n",
    "Example string\n",
    "`'There is only 1 apple left.'`\n",
    "\n",
    "Expected output is `['1']`\n",
    "\n",
    "---\n",
    "For the following case, output can be an empty list.\n",
    "\n",
    "Example string\n",
    "`'I have an apple'`\n",
    "\n",
    "Expected output is `[]`\n",
    "\n"
   ]
  },
  {
   "cell_type": "code",
   "execution_count": null,
   "id": "cordless-cream",
   "metadata": {
    "id": "cordless-cream"
   },
   "outputs": [],
   "source": [
    "string = 'There are 15 apples in the basket.'\n",
    "pattern = # YOUR CODE HERE\n",
    "re.findall(pattern, string)"
   ]
  },
  {
   "cell_type": "markdown",
   "id": "significant-niger",
   "metadata": {
    "id": "significant-niger"
   },
   "source": [
    "**Beginning/end of a string**\n",
    "\n",
    "Sometimes we are interested in matching beginning or end of a string. There are characters for that as well.\n",
    "\n",
    "| Character | Description |\n",
    "| --- | --- |\n",
    "|^|Matches the beginning of a line|\n",
    "|$|Matches the end of the line|"
   ]
  },
  {
   "cell_type": "code",
   "execution_count": null,
   "id": "acting-graphic",
   "metadata": {
    "id": "acting-graphic"
   },
   "outputs": [],
   "source": [
    "# Find the number at the beginning of the string\n",
    "string = '1-There are 5 apples and 2 oranges in the basket.'\n",
    "pattern = '^[0-9]+'\n",
    "re.findall(pattern, string)"
   ]
  },
  {
   "cell_type": "markdown",
   "id": "matched-national",
   "metadata": {
    "id": "matched-national"
   },
   "source": [
    "**Escape character**\n",
    "\n",
    "We use special characters in regular expressions such as a `.`. But what if we would like to match a `.` in a string? We need a way to indicate that these characters are “normal” and we want to match the actual character in a string.\n",
    "\n",
    "We can indicate that we want to simply match a character by prefixing that character with a backslash."
   ]
  },
  {
   "cell_type": "code",
   "execution_count": null,
   "id": "flush-weekend",
   "metadata": {
    "id": "flush-weekend"
   },
   "outputs": [],
   "source": [
    "# Find all abbreviated titles\n",
    "string = \"Dr. A, Ms. B, Mr. C\"\n",
    "pattern = '...' # this won't work\n",
    "re.findall(pattern, string)"
   ]
  },
  {
   "cell_type": "code",
   "execution_count": null,
   "id": "removed-outreach",
   "metadata": {
    "id": "removed-outreach"
   },
   "outputs": [],
   "source": [
    "# Find all abbreviated titles\n",
    "string = \"Dr. A, Ms. B, Mr. C\"\n",
    "pattern = '..\\.' # this will work\n",
    "re.findall(pattern, string)"
   ]
  },
  {
   "cell_type": "markdown",
   "id": "incoming-summer",
   "metadata": {
    "id": "incoming-summer"
   },
   "source": [
    "**\\+ and * are greedy**\n",
    "\n",
    "\\+ and * repeats a character. But it is crucial to understand that they are greedy. Let's examine this behaviour with an example.\n",
    "\n",
    "Let's say you have the string\n",
    "\n",
    "`\"From: stephen.marquard@uct.ac.za, csev@umich.edu, and cwen @iupui.edu\"`\n",
    "\n",
    "and you would like to get the name of the first person after `'From:'`\n",
    "\n",
    "we can define a pattern such as\n",
    "`'From:\\s(.+)@'`\n",
    "\n",
    "expecting it to give us the name between `From:` and `@`. Let's see what happens."
   ]
  },
  {
   "cell_type": "code",
   "execution_count": null,
   "id": "hispanic-treaty",
   "metadata": {
    "id": "hispanic-treaty"
   },
   "outputs": [],
   "source": [
    "# + will push until the last @ sign\n",
    "string = \"From: stephen.marquard@uct.ac.za, csev@umich.edu, and cwen @iupui.edu\"\n",
    "pattern = 'From:\\s(.+)@'\n",
    "re.findall(pattern, string)"
   ]
  },
  {
   "cell_type": "markdown",
   "id": "fantastic-sentence",
   "metadata": {
    "id": "fantastic-sentence"
   },
   "source": [
    "We did not get the first name. But this is not because the pattern is not matching. It is because of the greedy behaviour of the `+` character. If we use `+?`, which is non-greedy, it will give us what we want."
   ]
  },
  {
   "cell_type": "code",
   "execution_count": null,
   "id": "sorted-crawford",
   "metadata": {
    "id": "sorted-crawford"
   },
   "outputs": [],
   "source": [
    "# you can use +? for a non-greedy repetition\n",
    "string = \"From: stephen.marquard@uct.ac.za, csev@umich.edu, and cwen @iupui.edu\"\n",
    "pattern = 'From:\\s(.+?)@'\n",
    "re.findall(pattern, string)"
   ]
  },
  {
   "cell_type": "markdown",
   "id": "imperial-absolute",
   "metadata": {
    "id": "imperial-absolute"
   },
   "source": [
    "If you read the `re.findall()` documentation it says the following:\n",
    "\n",
    "\"Return all **non-overlapping matches** of pattern in string, as a list of strings or tuples. The string is **scanned left-to-right**, and matches are returned in the order found. Empty matches are included in the result.\"\n",
    "\n",
    "The fact that `re.findall()` reads left-to-right and finds non-overlapping matches has important implications.\n",
    "\n",
    "Take a look at the example below:"
   ]
  },
  {
   "cell_type": "code",
   "execution_count": null,
   "id": "inner-madness",
   "metadata": {
    "id": "inner-madness"
   },
   "outputs": [],
   "source": [
    "string = \"123456\"\n",
    "pattern = '...'\n",
    "re.findall(pattern, string)"
   ]
  },
  {
   "cell_type": "markdown",
   "id": "future-plate",
   "metadata": {
    "id": "future-plate"
   },
   "source": [
    "`'...'` matches `'234'` but it is not returned, why?\n",
    "\n",
    "This is because:\n",
    "\n",
    "- `re.findall()` reads from left-to-right,\n",
    "- finds the first match (`'123'` in this example),\n",
    "- continues scanning from the next character after the match (`'4'` in this example),\n",
    "- therefore \"non-overlapping\"."
   ]
  },
  {
   "cell_type": "markdown",
   "id": "therapeutic-stereo",
   "metadata": {
    "id": "therapeutic-stereo"
   },
   "source": [
    "**Task 4:** Given an arithmetic operation with nested parentheses, return the innermost parentheses and its contents.\n",
    "\n",
    "---\n",
    "\n",
    "Example string `\"(5 * (3 + 2)) - 7\"`\n",
    "\n",
    "Expected output is ['(3 + 2)']\n",
    "\n",
    "---\n",
    "\n",
    "Example string `\"((7 - 2) * (1 + 2)) / 2\"`\n",
    "\n",
    "Expected output is ['(7 - 2)', '(1 + 2)']"
   ]
  },
  {
   "cell_type": "code",
   "execution_count": null,
   "id": "owned-korea",
   "metadata": {
    "id": "owned-korea"
   },
   "outputs": [],
   "source": [
    "string = \"((7 - 2) * (1 + 2)) / 2\"\n",
    "pattern = # YOUR CODE HERE\n",
    "re.findall(pattern, string)"
   ]
  },
  {
   "cell_type": "markdown",
   "id": "hollow-developer",
   "metadata": {
    "id": "hollow-developer"
   },
   "source": [
    "We have covered the fundamentals of regular expressions. But there are many more characters. It is helpful to skim a cheatsheet and see what is possible.\n",
    "\n",
    "https://www.dataquest.io/wp-content/uploads/2019/03/python-regular-expressions-cheat-sheet.pdf\n",
    "\n",
    "Now to practice regular expressions, please continue with the following tasks."
   ]
  },
  {
   "cell_type": "markdown",
   "id": "white-moscow",
   "metadata": {
    "id": "white-moscow"
   },
   "source": [
    "# Task 5\n",
    "\n",
    "Given a list of tweets, remove links, hashtags and user handles from the tweets. Tweet processing will be essential for the creative brief. For this task, check the documentation for `re.sub()`.\n",
    "\n",
    "Example tweet:\n",
    "\n",
    "`'@BhaktisBanter @PallaviRuhail This one is irresistible :)\\n#FlipkartFashionFriday http://t.co/EbZ0L2VENM'`\n",
    "\n",
    "Expected output:\n",
    "\n",
    "`'This one is irresistible :)\\nFlipkartFashionFriday'`\n",
    "\n",
    "\n",
    "For this task you will use a sample twitter dataset from the nltk library."
   ]
  },
  {
   "cell_type": "code",
   "execution_count": null,
   "id": "prime-comparison",
   "metadata": {
    "id": "prime-comparison"
   },
   "outputs": [],
   "source": [
    "import nltk\n",
    "from nltk.corpus import twitter_samples\n",
    "nltk.download('twitter_samples')\n",
    "all_positive_tweets = twitter_samples.strings('positive_tweets.json')\n",
    "all_negative_tweets = twitter_samples.strings('negative_tweets.json')\n",
    "tweets = all_positive_tweets + all_negative_tweets"
   ]
  },
  {
   "cell_type": "code",
   "execution_count": null,
   "id": "otherwise-bloom",
   "metadata": {
    "id": "otherwise-bloom"
   },
   "outputs": [],
   "source": [
    "# Examine the first 10 tweets\n",
    "tweets[:10]"
   ]
  },
  {
   "cell_type": "code",
   "execution_count": null,
   "id": "simple-traffic",
   "metadata": {
    "id": "simple-traffic"
   },
   "outputs": [],
   "source": [
    "string = '@BhaktisBanter @PallaviRuhail This one is irresistible :)\\n#FlipkartFashionFriday http://t.co/EbZ0L2VENM'\n",
    "processed_tw = # YOUR CODE HERE remove links\n",
    "processed_tw = # YOUR CODE HERE remove handles\n",
    "processed_tw = # YOUR CODE HERE remove hashtags"
   ]
  },
  {
   "cell_type": "markdown",
   "id": "mexican-exclusive",
   "metadata": {
    "id": "mexican-exclusive"
   },
   "source": [
    "# Task 6\n",
    "\n",
    "Find all the emails inside the file `'mbox-short.txt'`. It is a collection of email messages and metadata.\n",
    "\n",
    "If you would like to know more about mbox files, read the following:\n",
    "https://en.wikipedia.org/wiki/Mbox"
   ]
  },
  {
   "cell_type": "code",
   "execution_count": null,
   "id": "brazilian-garbage",
   "metadata": {
    "id": "brazilian-garbage"
   },
   "outputs": [],
   "source": [
    "# Let's examine the first 10 lines\n",
    "f = open('mbox-short.txt')\n",
    "counter = 0\n",
    "for line in f:\n",
    "    print(line)\n",
    "    counter += 1\n",
    "    if counter>=10:break\n",
    "f.close()"
   ]
  },
  {
   "cell_type": "markdown",
   "id": "wicked-protocol",
   "metadata": {
    "id": "wicked-protocol"
   },
   "source": [
    "Designing a pattern matching an email address requires the knowledge of syntax rules. The format of an email address is `local-part@domain`. Syntax rules for the local-part and the domain are different from each other and complex.\n",
    "\n",
    "For example the following is a valid email address:\n",
    "\n",
    "`\"very.(),:;<>[]\\\".VERY.\\\"very@\\\\ \\\"very\\\".unusual\"@strange.example.com`\n",
    "\n",
    "You can find all the rules here:\n",
    "https://en.wikipedia.org/wiki/Email_address#Syntax\n",
    "\n",
    "**For this task assume that a valid email address can contain:**\n",
    "\n",
    "- lowercase Latin letters `a` to `z`\n",
    "- digits `0` to `9`\n",
    "- dot `.`\n",
    "\n",
    "and nothing else. You should be able to find a total of 305 emails, 16 of which are unique.\n",
    "\n",
    "|id|email|count|\n",
    "|---|---|---|\n",
    "|0|`source@collab.sakaiproject.org`|135|\n",
    "|1|`postmaster@collab.sakaiproject.org`|27\n",
    "|2|`apache@localhost`|27|\n",
    "|3|`cwen@iupui.edu`|20|\n",
    "|4|`zqian@umich.edu`|17|\n",
    "|5|`david.horwitz@uct.ac.za`|17|\n",
    "|6|`louis@media.berkeley.edu`|12|\n",
    "|7|`gsilver@umich.edu`|12|\n",
    "|8|`stephen.marquard@uct.ac.za`|8|\n",
    "|9|`rjlowe@iupui.edu`|8|\n",
    "|10|`wagnermr@iupui.edu`|6|\n",
    "|11|`antranig@caret.cam.ac.uk`|4|\n",
    "|12|`gopal.ramasammycook@gmail.com`|4|\n",
    "|13|`ray@media.berkeley.edu`|4|\n",
    "|14|`hu2@iupui.edu`|2|\n",
    "|15|`josrodri@iupui.edu`|2|\n"
   ]
  },
  {
   "cell_type": "code",
   "execution_count": null,
   "id": "undefined-damages",
   "metadata": {
    "id": "undefined-damages"
   },
   "outputs": [],
   "source": [
    "# YOUR CODE HERE"
   ]
  }
 ],
 "metadata": {
  "colab": {
   "provenance": []
  },
  "kernelspec": {
   "display_name": "Python 3",
   "language": "python",
   "name": "python3"
  },
  "language_info": {
   "codemirror_mode": {
    "name": "ipython",
    "version": 3
   },
   "file_extension": ".py",
   "mimetype": "text/x-python",
   "name": "python",
   "nbconvert_exporter": "python",
   "pygments_lexer": "ipython3",
   "version": "3.6.5"
  }
 },
 "nbformat": 4,
 "nbformat_minor": 5
}
